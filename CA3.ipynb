{
 "cells": [
  {
   "cell_type": "code",
   "execution_count": 1,
   "metadata": {},
   "outputs": [],
   "source": [
    "import numpy as np\n",
    "import pandas as pd\n",
    "import matplotlib.pyplot as plt \n",
    "import seaborn as sns\n",
    "\n",
    "from sklearn.model_selection import train_test_split\n",
    "from sklearn.preprocessing import StandardScaler\n",
    "from sklearn.metrics import accuracy_score\n",
    "\n",
    "from sklearn.linear_model import Perceptron\n",
    "from sklearn.linear_model import LogisticRegression\n",
    "from sklearn.svm import SVC\n",
    "from sklearn.svm import LinearSVC\n",
    "from sklearn.neighbors import KNeighborsClassifier\n",
    "from sklearn.tree import DecisionTreeClassifier\n",
    "from sklearn.ensemble import RandomForestClassifier"
   ]
  },
  {
   "cell_type": "code",
   "execution_count": 2,
   "metadata": {},
   "outputs": [],
   "source": [
    "training_data = pd.read_csv('train.csv', index_col= 0 )\n",
    "test_data = pd.read_csv('test.csv',index_col = 0)"
   ]
  },
  {
   "cell_type": "code",
   "execution_count": 3,
   "metadata": {},
   "outputs": [],
   "source": [
    "outliers = training_data.loc[training_data['transfer'] < 0] \n",
    "training_data = training_data.drop(training_data.index[list(outliers.index)])"
   ]
  },
  {
   "cell_type": "code",
   "execution_count": 25,
   "metadata": {},
   "outputs": [
    {
     "name": "stdout",
     "output_type": "stream",
     "text": [
      "27187.0\n"
     ]
    }
   ],
   "source": [
    "X = training_data.iloc[:,:-1].copy()\n",
    "y = training_data.iloc[:,-1].copy()"
   ]
  },
  {
   "cell_type": "code",
   "execution_count": null,
   "metadata": {},
   "outputs": [],
   "source": [
    "#X_train,X_test,y_train,y_test = train_test_split(X,y,test_size=0.3,random_state=50, stratify= y)"
   ]
  },
  {
   "cell_type": "code",
   "execution_count": 12,
   "metadata": {},
   "outputs": [],
   "source": [
    "all_acc_test = []\n",
    "all_acc_train = []\n",
    "n_values = []\n",
    "\n",
    "for n in range(100,300):\n",
    "    train_acc = []\n",
    "    test_acc = []\n",
    "    n_values.append(n)\n",
    "    for r in range(1,10):\n",
    "        X_train,X_test,y_train,y_test = train_test_split(X,y,test_size=0.3,random_state=r, stratify= y)\n",
    "\n",
    "        forest = RandomForestClassifier(criterion='gini',\n",
    "                                        n_estimators=n, \n",
    "                                        random_state= 1,\n",
    "                                        n_jobs=-1)\n",
    "        forest.fit(X_train, y_train)\n",
    "        train_acc.append(forest.score(X_train, y_train))\n",
    "        test_acc.append(forest.score(X_test, y_test))\n",
    "    \n",
    "    all_acc_test.append(np.mean(test_acc))\n",
    "    all_acc_train.append(np.mean(train_acc))"
   ]
  },
  {
   "cell_type": "code",
   "execution_count": 13,
   "metadata": {},
   "outputs": [
    {
     "name": "stdout",
     "output_type": "stream",
     "text": [
      "163 0.9995983035330605 0.8007279543175974\n"
     ]
    }
   ],
   "source": [
    "jmax = max(all_acc_test)\n",
    "N = (str(i) for i,j in zip(n_values,all_acc_test) if j == jmax)\n",
    "N1 = (str(k) for k,j in zip(all_acc_train,all_acc_test) if j == jmax)\n",
    "print(','.join(N), ','.join(N1), jmax)"
   ]
  },
  {
   "cell_type": "code",
   "execution_count": 30,
   "metadata": {},
   "outputs": [],
   "source": [
    "forest_xtrain = X\n",
    "forest_ytrain = y\n",
    "forest_test = test_data\n",
    "forest = RandomForestClassifier(criterion='gini',\n",
    "                                n_estimators=163,\n",
    "                                random_state= 100,\n",
    "                                n_jobs=-1)\n",
    "forest.fit(forest_xtrain, forest_ytrain)\n",
    "\n",
    "forest_target_predictions = forest.predict(forest_test)\n",
    "output = pd.DataFrame({'index': forest_test.index,'target': forest_target_predictions})\n",
    "output.to_csv('submission_forest',index=False)\n"
   ]
  }
 ],
 "metadata": {
  "interpreter": {
   "hash": "40f47591c8938a769cca9a3db53cadf0d28607e5978fb2bb4247f4e3382bb40d"
  },
  "kernelspec": {
   "display_name": "Python 3.8.11 ('base')",
   "language": "python",
   "name": "python3"
  },
  "language_info": {
   "codemirror_mode": {
    "name": "ipython",
    "version": 3
   },
   "file_extension": ".py",
   "mimetype": "text/x-python",
   "name": "python",
   "nbconvert_exporter": "python",
   "pygments_lexer": "ipython3",
   "version": "3.8.11"
  },
  "orig_nbformat": 4
 },
 "nbformat": 4,
 "nbformat_minor": 2
}
