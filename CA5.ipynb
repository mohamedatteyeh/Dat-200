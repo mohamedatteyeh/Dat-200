{
 "cells": [
  {
   "cell_type": "code",
   "execution_count": 11,
   "metadata": {},
   "outputs": [],
   "source": [
    "import pandas as pd\n",
    "import matplotlib.pyplot as plt\n",
    "import numpy as np\n",
    "import re\n",
    "import seaborn as sns\n",
    "from sklearn.pipeline import make_pipeline\n",
    "from sklearn.model_selection import train_test_split\n",
    "from sklearn.preprocessing import StandardScaler,PolynomialFeatures,MinMaxScaler\n",
    "from sklearn.metrics import accuracy_score,confusion_matrix, classification_report, f1_score,plot_confusion_matrix\n",
    "from sklearn.linear_model import LinearRegression,Ridge,ElasticNet,Lasso,Perceptron\n",
    "from sklearn.feature_selection import SelectKBest, f_regression\n",
    "from sklearn.svm import SVC,LinearSVC\n",
    "from sklearn.decomposition import PCA\n",
    "from sklearn.model_selection import StratifiedKFold,cross_val_score\n",
    "from sklearn.model_selection import GridSearchCV\n",
    "from sklearn.tree import DecisionTreeRegressor\n",
    "from sklearn.ensemble import RandomForestRegressor\n",
    "from sklearn.linear_model import LogisticRegression\n",
    "from sklearn.svm import SVC\n",
    "from sklearn.svm import LinearSVC\n",
    "from sklearn.neighbors import KNeighborsClassifier\n",
    "from sklearn.tree import DecisionTreeClassifier\n",
    "from sklearn.ensemble import RandomForestClassifier\n",
    "from imblearn.over_sampling import SMOTE\n",
    "from imblearn.under_sampling import TomekLinks"
   ]
  },
  {
   "cell_type": "code",
   "execution_count": 12,
   "metadata": {},
   "outputs": [],
   "source": [
    "Tr_data =  pd.read_pickle ('train.pkl')"
   ]
  },
  {
   "cell_type": "code",
   "execution_count": 13,
   "metadata": {},
   "outputs": [],
   "source": [
    "# Cleaning the column names\n",
    "columns = Tr_data.columns\n",
    "for col in columns:\n",
    "    Tr_data = Tr_data.rename(\n",
    "        columns={\n",
    "            # strip out parentheses, and their contents\n",
    "            col: re.sub(r'\\(.*', '', col)\n",
    "            .strip() \n",
    "            .replace(' ', '_')\n",
    "            .replace('-', '_') \n",
    "            .lower()  # lowercase the column name\n",
    "        }\n",
    "    )\n",
    "df = Tr_data.copy()"
   ]
  },
  {
   "cell_type": "code",
   "execution_count": 14,
   "metadata": {},
   "outputs": [],
   "source": [
    "# Removal of all values that has missing in to be able to see the visualisations.\n",
    "missing_values = df[df.eq('missing').any(1)]\n",
    "df = df.drop(df.index[list(missing_values.index)])"
   ]
  },
  {
   "cell_type": "code",
   "execution_count": 15,
   "metadata": {},
   "outputs": [],
   "source": [
    "cat_columns =['year', 'month', 'hour', 'holiday', 'weekday', 'working_day',\n",
    "       'temperature', 'feels_like_temperature',\n",
    "       'humidity', 'windspeed', 'rental_bikes_count']\n",
    "for i in cat_columns:\n",
    "    df[i] = df[i].astype(float)\n",
    "\n",
    "corr = df[list(cat_columns)].corr()\n",
    "#plt.figure(figsize= (20,10))\n",
    "#sns.heatmap(corr,annot = True, cmap = 'BrBG')\n",
    "#plt.show()"
   ]
  },
  {
   "cell_type": "code",
   "execution_count": 16,
   "metadata": {},
   "outputs": [],
   "source": [
    "#plt.figure(figsize = (20,10))\n",
    "#sns.scatterplot(x = df['hour'],y = df['rental_bikes_count'],hue = df['season'])\n",
    "#plt.show()\n",
    "#df.dtypes\n"
   ]
  },
  {
   "cell_type": "code",
   "execution_count": null,
   "metadata": {},
   "outputs": [],
   "source": []
  },
  {
   "cell_type": "code",
   "execution_count": 17,
   "metadata": {},
   "outputs": [],
   "source": [
    "df = df.replace(to_replace=['Heavy rain, heavy snow or thunderstorm','Light snow or light rain','Misty and/or cloudy','Clear or partly cloudy'], value = [0,0,1,2])\n",
    "df = df.replace(to_replace=['Summer','Winter','Fall','Spring'], value = [0,1,2,3])\n",
    "\n",
    "#df = df.drop(['month','weekday','weather_situation','season','holiday'], axis= 1)\n"
   ]
  },
  {
   "cell_type": "code",
   "execution_count": 18,
   "metadata": {},
   "outputs": [],
   "source": [
    "X,y = df.drop('rental_bikes_count', axis = 1).copy(), df['rental_bikes_count'].copy()\n",
    "X_train,X_test,y_train,y_test = train_test_split(X,y,test_size=0.4,random_state=100)"
   ]
  },
  {
   "cell_type": "code",
   "execution_count": 19,
   "metadata": {},
   "outputs": [],
   "source": [
    "# PIPELINES\n",
    "DT_regressor = make_pipeline(DecisionTreeRegressor(max_depth=10))\n",
    "RF_regressor = make_pipeline(RandomForestRegressor(n_estimators=100, random_state=10,n_jobs=-1))\n"
   ]
  },
  {
   "cell_type": "code",
   "execution_count": 20,
   "metadata": {},
   "outputs": [
    {
     "name": "stdout",
     "output_type": "stream",
     "text": [
      "Train accuracy DT: 0.93511\n",
      "Test accuracy DT: 0.88117\n",
      "Train accuracy RF: 0.99134\n",
      "Test accuracy RF: 0.93779\n"
     ]
    }
   ],
   "source": [
    "DT_regressor.fit(X_train,y_train)\n",
    "RF_regressor.fit(X_train,y_train)\n",
    "\n",
    "print('Train accuracy DT: {0:.5f}'.format(DT_regressor.score(X_train, y_train)))\n",
    "print('Test accuracy DT: {0:.5f}'.format(DT_regressor.score(X_test, y_test)))\n",
    "\n",
    "print('Train accuracy RF: {0:.5f}'.format(RF_regressor.score(X_train, y_train)))\n",
    "print('Test accuracy RF: {0:.5f}'.format(RF_regressor.score(X_test, y_test)))\n",
    "\n"
   ]
  },
  {
   "cell_type": "code",
   "execution_count": 21,
   "metadata": {},
   "outputs": [],
   "source": [
    "dfc = df.copy()\n",
    "dfc['rental_bikes_count'] = pd.cut(dfc['rental_bikes_count'], bins= 5, labels= [i for i in range(5)])"
   ]
  },
  {
   "cell_type": "code",
   "execution_count": 22,
   "metadata": {},
   "outputs": [],
   "source": [
    "Xc,yc = dfc.drop('rental_bikes_count', axis = 1).copy(), dfc['rental_bikes_count'].copy()\n",
    "Xc_train,Xc_test,yc_train,yc_test = train_test_split(Xc,yc,test_size=0.4,random_state=100)"
   ]
  },
  {
   "cell_type": "code",
   "execution_count": 23,
   "metadata": {},
   "outputs": [
    {
     "name": "stdout",
     "output_type": "stream",
     "text": [
      "Train accuracy svm: 0.83274\n",
      "Test accuracy svm: 0.75808\n",
      "\n",
      "Train accuracy forest : 1.00000\n",
      "Test accuracy forest : 0.81845\n"
     ]
    }
   ],
   "source": [
    "\n",
    "forest = RandomForestClassifier(criterion='gini',\n",
    "                                        n_estimators=60, \n",
    "                                        random_state= 100,\n",
    "                                        max_depth= 20,\n",
    "                                        n_jobs=-1)\n",
    "forest.fit(Xc_train, yc_train)\n",
    "FTrain = forest.score(Xc_train, yc_train)\n",
    "FTest  = forest.score(Xc_test, yc_test)\n",
    "\n",
    "#------------------------------------------------------\n",
    "sc = StandardScaler()\n",
    "sc.fit(Xc_train)\n",
    "\n",
    "Xc_train_sc = sc.transform(Xc_train)\n",
    "Xc_test_sc = sc.transform(Xc_test)\n",
    "\n",
    "svm = SVC(kernel='rbf', C=20, random_state=100)\n",
    "svm.fit(Xc_train_sc, yc_train)\n",
    "\n",
    "print('Train accuracy svm: {0:.5f}'.format(svm.score(Xc_train_sc, yc_train)))\n",
    "print('Test accuracy svm: {0:.5f}'.format(svm.score(Xc_test_sc, yc_test)))\n",
    "print()\n",
    "\n",
    "print('Train accuracy forest : {0:.5f}'.format(forest.score(Xc_train, yc_train)))\n",
    "print('Test accuracy forest : {0:.5f}'.format(forest.score(Xc_test, yc_test)))\n"
   ]
  },
  {
   "cell_type": "code",
   "execution_count": 24,
   "metadata": {},
   "outputs": [],
   "source": [
    "test_data = pd.read_pickle('test.pkl')\n",
    "\n",
    "columns = test_data.columns\n",
    "for col in columns:\n",
    "    test_data = test_data.rename(\n",
    "        columns={\n",
    "            # strip out parentheses, and their contents\n",
    "            col: re.sub(r'\\(.*', '', col)\n",
    "            .strip() \n",
    "            .replace(' ', '_')\n",
    "            .replace('-', '_') \n",
    "            .lower()  # lowercase the column name\n",
    "        }\n",
    "    )\n",
    "\n",
    "dft = test_data.copy()\n",
    "\n"
   ]
  },
  {
   "cell_type": "code",
   "execution_count": 25,
   "metadata": {},
   "outputs": [],
   "source": [
    "dft = dft.replace(to_replace=['Heavy rain, heavy snow or thunderstorm','Light snow or light rain','Misty and/or cloudy','Clear or partly cloudy'], value = [0,0,1,1])\n",
    "dft = dft.replace(to_replace=['Summer','Winter','Fall','Spring'], value = [0,1,2,3])"
   ]
  },
  {
   "cell_type": "code",
   "execution_count": 26,
   "metadata": {},
   "outputs": [],
   "source": [
    "\n",
    "kgl_X,kgl_y = df.drop('rental_bikes_count', axis = 1).copy(), df['rental_bikes_count'].copy() \n",
    "\n",
    "RF_regressor.fit(kgl_X,kgl_y)\n",
    "kgl_pred = RF_regressor.predict(dft)\n",
    "\n",
    "\n",
    "output = pd.DataFrame({'idx': dft.index,'Rental bikes count': kgl_pred})\n",
    "output.to_csv('CA5_submission_RF', index = False)\n"
   ]
  }
 ],
 "metadata": {
  "interpreter": {
   "hash": "40f47591c8938a769cca9a3db53cadf0d28607e5978fb2bb4247f4e3382bb40d"
  },
  "kernelspec": {
   "display_name": "Python 3.8.11",
   "language": "python",
   "name": "python3"
  },
  "language_info": {
   "codemirror_mode": {
    "name": "ipython",
    "version": 3
   },
   "file_extension": ".py",
   "mimetype": "text/x-python",
   "name": "python",
   "nbconvert_exporter": "python",
   "pygments_lexer": "ipython3",
   "version": "3.8.11"
  },
  "orig_nbformat": 4
 },
 "nbformat": 4,
 "nbformat_minor": 2
}
